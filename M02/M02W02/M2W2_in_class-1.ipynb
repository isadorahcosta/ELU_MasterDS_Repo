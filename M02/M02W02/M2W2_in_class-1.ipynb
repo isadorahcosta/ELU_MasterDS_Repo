{
 "cells": [
  {
   "cell_type": "markdown",
   "metadata": {},
   "source": [
    "We continue discussing some more complex topic in Python such as:\n",
    "\n",
    "    - List comprenehsions\n",
    "    - Dict comprehensions\n",
    "    - Writing more complex functions\n",
    "    - Anonymous functions"
   ]
  },
  {
   "cell_type": "markdown",
   "metadata": {},
   "source": [
    "**Q1. Use a list comprehension to print out only the even numbers between 1 and 15.** "
   ]
  },
  {
   "cell_type": "code",
   "execution_count": null,
   "metadata": {},
   "outputs": [],
   "source": []
  },
  {
   "cell_type": "markdown",
   "metadata": {},
   "source": [
    "Note that if you place the IF statement before the **for** loop, you will encounter an error."
   ]
  },
  {
   "cell_type": "code",
   "execution_count": null,
   "metadata": {
    "scrolled": true
   },
   "outputs": [],
   "source": [
    "my_list = [x if x%2 ==0 for x in range(1, 16)]\n",
    "my_list"
   ]
  },
  {
   "cell_type": "markdown",
   "metadata": {},
   "source": [
    "**Q2. Use list comprehension and the print out the even numbers between 1 and 15 and replace the odd number with the word ODD.\n",
    "Note the control flow logic and placement.\n",
    "Discalimer: such code is typically less readable than when you write out a for loop, so if you have a longer control flow (with more than a single IF statement, better to use a traditional for loop.**"
   ]
  },
  {
   "cell_type": "code",
   "execution_count": 3,
   "metadata": {},
   "outputs": [
    {
     "data": {
      "text/plain": [
       "[1, 'ODD', 3, 'ODD', 5, 'ODD', 7, 'ODD', 9, 'ODD', 11, 'ODD', 13, 'ODD', 15]"
      ]
     },
     "execution_count": 3,
     "metadata": {},
     "output_type": "execute_result"
    }
   ],
   "source": []
  },
  {
   "cell_type": "code",
   "execution_count": null,
   "metadata": {},
   "outputs": [],
   "source": [
    "# Compare with a for loop: yes, more lines of code but we gain on readability\n",
    "\n",
    "my_list =[]\n",
    "for num in range(1, 16):\n",
    "    if num %2 == 0 :\n",
    "        my_list.append(num)\n",
    "    else:\n",
    "        my_list.append('ODD')\n",
    "        \n",
    "print(my_list)"
   ]
  },
  {
   "cell_type": "markdown",
   "metadata": {},
   "source": [
    "**Q3. List comprehensions can be nested as well. Below you are given a list with consumer reviews of products (in a rel example, it can be a pretty large list). \n",
    "Your task is two folds: First, use a list comprehension to split each review in words and store that in the list *reviews_split*. Second, take that list and filter out any non-letters (Hint: you may want to use the .isalpha() method of a string, but there are other solutions too). What is yours?**  "
   ]
  },
  {
   "cell_type": "code",
   "execution_count": null,
   "metadata": {},
   "outputs": [],
   "source": [
    "reviews = ['the battery life is poor - it dies in 3 hours!!',  'The camera is great', 'I love this phone! Have had it for 2 years']\n",
    "\n",
    "reviews_split = [ _____________________ ] \n",
    "reviews_split"
   ]
  },
  {
   "cell_type": "code",
   "execution_count": null,
   "metadata": {},
   "outputs": [],
   "source": [
    "reviews_cleaned = [[_________] for ___ in reviews_split]\n",
    "reviews_cleaned"
   ]
  },
  {
   "cell_type": "markdown",
   "metadata": {},
   "source": [
    "Comprehensions can also with dictionaries the same way as lists. Instead of appending a new value to the list, it appends a key, value pair in the dicionary.\n",
    "\n",
    "In the next cell, we will create a dictionary with keys all the numbers from 1 to 15 and as values their respective sequarred value"
   ]
  },
  {
   "cell_type": "code",
   "execution_count": 7,
   "metadata": {},
   "outputs": [
    {
     "data": {
      "text/plain": [
       "{1: 1,\n",
       " 2: 4,\n",
       " 3: 9,\n",
       " 4: 16,\n",
       " 5: 25,\n",
       " 6: 36,\n",
       " 7: 49,\n",
       " 8: 64,\n",
       " 9: 81,\n",
       " 10: 100,\n",
       " 11: 121,\n",
       " 12: 144,\n",
       " 13: 169,\n",
       " 14: 196,\n",
       " 15: 225}"
      ]
     },
     "execution_count": 7,
     "metadata": {},
     "output_type": "execute_result"
    }
   ],
   "source": [
    "{x: x ** 2 for x in range(1,16)}"
   ]
  },
  {
   "cell_type": "markdown",
   "metadata": {},
   "source": [
    "What if I only want the odd numbers as keys?"
   ]
  },
  {
   "cell_type": "markdown",
   "metadata": {},
   "source": [
    "## Functions\n"
   ]
  },
  {
   "cell_type": "markdown",
   "metadata": {},
   "source": [
    "Often it is easier to write your own code than to understand the logic of some else's code. In the below exercise, your task is to fix the given function. "
   ]
  },
  {
   "cell_type": "markdown",
   "metadata": {},
   "source": [
    "**Q4 Fix the function!!\n",
    "I have written a function to return True if any number of a list is even, and False otherwise. However, as we can see, when I call the function below, it is not working as we may expect. Try to think about why that is and to fix it.**"
   ]
  },
  {
   "cell_type": "code",
   "execution_count": 4,
   "metadata": {},
   "outputs": [],
   "source": [
    "def check_even_list(my_list): \n",
    "    \n",
    "    for num in my_list:\n",
    "        if num %2 == 0:\n",
    "            return True\n",
    "        else:\n",
    "            return False "
   ]
  },
  {
   "cell_type": "code",
   "execution_count": null,
   "metadata": {},
   "outputs": [],
   "source": [
    " "
   ]
  },
  {
   "cell_type": "code",
   "execution_count": 5,
   "metadata": {},
   "outputs": [
    {
     "data": {
      "text/plain": [
       "False"
      ]
     },
     "execution_count": 5,
     "metadata": {},
     "output_type": "execute_result"
    }
   ],
   "source": [
    "check_even_list([1, 2, 3])"
   ]
  },
  {
   "cell_type": "code",
   "execution_count": 6,
   "metadata": {},
   "outputs": [
    {
     "data": {
      "text/plain": [
       "True"
      ]
     },
     "execution_count": 6,
     "metadata": {},
     "output_type": "execute_result"
    }
   ],
   "source": [
    "check_even_list([2,1,3])"
   ]
  },
  {
   "cell_type": "markdown",
   "metadata": {},
   "source": [
    "The order of the items in the list has been changed but all else stayed the same. Yet, the function return different results. Why is tha? "
   ]
  },
  {
   "cell_type": "markdown",
   "metadata": {},
   "source": [
    "**Q5. Now imagine that a junior data scientist in your team wrote the function below. Optimize the function. Here is what the function does: \n",
    "        - It returns the lesser of two evens IF both numbers are EVEN\n",
    "        - It returns the greater of two numbers IF one or BOTH numbers are ODD**"
   ]
  },
  {
   "cell_type": "code",
   "execution_count": null,
   "metadata": {},
   "outputs": [],
   "source": [
    "def lesser_of_two_evens(a, b):\n",
    "    if a%2 == 0 and b%2 == 0:\n",
    "        # Both numbers are even!\n",
    "        if a < b:\n",
    "            result = a\n",
    "        else:\n",
    "            result = b\n",
    "    else: \n",
    "        # If one or both are odd\n",
    "        if a > b:\n",
    "            result = a\n",
    "        else:\n",
    "            result = b\n",
    "            \n",
    "    return result"
   ]
  },
  {
   "cell_type": "code",
   "execution_count": null,
   "metadata": {},
   "outputs": [],
   "source": [
    "lesser_of_two_evens(2, 6)"
   ]
  },
  {
   "cell_type": "code",
   "execution_count": null,
   "metadata": {},
   "outputs": [],
   "source": [
    "lesser_of_two_evens(7, 9)"
   ]
  },
  {
   "cell_type": "code",
   "execution_count": null,
   "metadata": {},
   "outputs": [],
   "source": [
    "# Same function but optimized\n",
    "def lesser_of_two_evens2(a, b):\n",
    "    pass"
   ]
  },
  {
   "cell_type": "code",
   "execution_count": null,
   "metadata": {},
   "outputs": [],
   "source": [
    "lesser_of_two_evens2(2, 6)"
   ]
  },
  {
   "cell_type": "code",
   "execution_count": null,
   "metadata": {},
   "outputs": [],
   "source": [
    "lesser_of_two_evens2(7, 9)"
   ]
  },
  {
   "cell_type": "markdown",
   "metadata": {},
   "source": [
    "**Q6. Let's help your junior colleague some more. They have written the below function, which is again correct and readable but not very efficient. Can you think of a one-line way to re-write it? Here is what the function should do:** \n",
    "\n",
    "        - Function makes_twenty: Given two integers, returns True if the sum of the integers is 20 or either one of them is 20. Otherwise, returns False\n",
    "  "
   ]
  },
  {
   "cell_type": "code",
   "execution_count": null,
   "metadata": {},
   "outputs": [],
   "source": [
    "def makes_twenty(n1, n2):\n",
    "    if n1 + n2 ==20:\n",
    "        return True\n",
    "    elif n1 == 20:\n",
    "        return True\n",
    "    elif n2 == 20:\n",
    "        return True\n",
    "    else:\n",
    "        return False"
   ]
  },
  {
   "cell_type": "code",
   "execution_count": null,
   "metadata": {},
   "outputs": [],
   "source": [
    "makes_twenty(10, 20)"
   ]
  },
  {
   "cell_type": "code",
   "execution_count": null,
   "metadata": {},
   "outputs": [],
   "source": [
    "makes_twenty(2, 18)"
   ]
  },
  {
   "cell_type": "code",
   "execution_count": null,
   "metadata": {},
   "outputs": [],
   "source": [
    "makes_twenty(2, 5)"
   ]
  },
  {
   "cell_type": "code",
   "execution_count": null,
   "metadata": {},
   "outputs": [],
   "source": [
    "# SOLUTION:\n",
    "def makes_twenty2(n1, n2):\n",
    "    pass"
   ]
  },
  {
   "cell_type": "code",
   "execution_count": null,
   "metadata": {},
   "outputs": [],
   "source": [
    "makes_twenty2(10, 20)"
   ]
  },
  {
   "cell_type": "code",
   "execution_count": null,
   "metadata": {},
   "outputs": [],
   "source": [
    "makes_twenty2(2, 18)"
   ]
  },
  {
   "cell_type": "code",
   "execution_count": null,
   "metadata": {},
   "outputs": [],
   "source": [
    "makes_twenty2(2, 5)"
   ]
  },
  {
   "cell_type": "markdown",
   "metadata": {},
   "source": [
    "**Q7. Now write a function yourself. The function takes a sentence, and returns the words reversed. Let's call it Yoda because why not??! :) Note that we do not want a list back but a string!!** \n",
    "\n",
    "        - yoda('I am home') ---> 'home am I'\n",
    "        - yoda('We are awesome') --> 'awesome are We'"
   ]
  },
  {
   "cell_type": "code",
   "execution_count": null,
   "metadata": {},
   "outputs": [],
   "source": [
    "def yoda(text):\n",
    "    pass"
   ]
  },
  {
   "cell_type": "code",
   "execution_count": null,
   "metadata": {},
   "outputs": [],
   "source": [
    " yoda('I am home')"
   ]
  },
  {
   "cell_type": "markdown",
   "metadata": {},
   "source": [
    "**Q8. SPY GAME: Write a function which takes in a list of integers and returns True if it contains 007. NOte : it does not mean consecutive order!**\n",
    "\n",
    "        - spy_game([1, 2, 4, 6, 0, 0, 7]) --> True\n",
    "        - spy_game([0, 7, 8, 9, 4]) --> False\n",
    "        - spy_game([1, 0, 8, 9, 0, 3, 7]) --> True"
   ]
  },
  {
   "cell_type": "code",
   "execution_count": null,
   "metadata": {},
   "outputs": [],
   "source": [
    "def spy_game(nums):\n",
    "    pass"
   ]
  },
  {
   "cell_type": "code",
   "execution_count": null,
   "metadata": {},
   "outputs": [],
   "source": [
    "spy_game([1, 2, 4, 6, 0, 0, 7])"
   ]
  },
  {
   "cell_type": "code",
   "execution_count": null,
   "metadata": {},
   "outputs": [],
   "source": [
    "spy_game([0, 7, 8, 9, 4])"
   ]
  },
  {
   "cell_type": "code",
   "execution_count": null,
   "metadata": {},
   "outputs": [],
   "source": [
    "spy_game([1, 0, 8, 9, 0, 3, 7])"
   ]
  },
  {
   "cell_type": "markdown",
   "metadata": {},
   "source": [
    "**Q9. Anonymous functions, i.e. lambda expressions: They are very useful when you want to use a function only once, and usually with other functions, such as map() and filter().\n",
    "In this exercise, you are asked to use a map() function and a lambda expression to return the first characters of a list of strings.** "
   ]
  },
  {
   "cell_type": "code",
   "execution_count": null,
   "metadata": {},
   "outputs": [],
   "source": [
    "names = ['Sally', 'Barbara', 'Jonathan', 'Jeroen']"
   ]
  },
  {
   "cell_type": "code",
   "execution_count": null,
   "metadata": {},
   "outputs": [],
   "source": [
    " "
   ]
  },
  {
   "cell_type": "markdown",
   "metadata": {},
   "source": [
    "**Q10. Write a function to multiply all numbers in a list. Provide two solutions: one (most likely longer) and a second (most likely shorter) which uses the reduce() function and a lambda expression.**\n",
    "\n",
    "        - My_list = [1, 2, -6] --> -12"
   ]
  },
  {
   "cell_type": "code",
   "execution_count": null,
   "metadata": {},
   "outputs": [],
   "source": [
    "def multiply(nums):\n",
    "    pass"
   ]
  },
  {
   "cell_type": "code",
   "execution_count": null,
   "metadata": {},
   "outputs": [],
   "source": [
    "multiply([1, 2, -6])"
   ]
  },
  {
   "cell_type": "markdown",
   "metadata": {},
   "source": [
    "What if you want to use **reduce()** from functools? The **reduce(fun,seq)** function is used to apply a particular function passed in its argument to all of the list elements mentioned in the sequence passed along."
   ]
  },
  {
   "cell_type": "code",
   "execution_count": null,
   "metadata": {},
   "outputs": [],
   "source": [
    "# Second solution, using reduce(), which you need to import from functools\n",
    "from functools import reduce\n",
    "\n",
    "reduce(_____)"
   ]
  },
  {
   "cell_type": "markdown",
   "metadata": {},
   "source": [
    "**Q11. Write a function which checks if a word or a phrase is a palindrome. A palindrome is a word or a phrase, which is the same if you read it backwards, such as 'madam', 'kayak' or 'nurses run'.\n",
    "HINT: You may want to think about making everything lower case, as well as replacing white spaces**"
   ]
  },
  {
   "cell_type": "code",
   "execution_count": null,
   "metadata": {},
   "outputs": [],
   "source": [
    "def palindrome(s):\n",
    "    pass"
   ]
  },
  {
   "cell_type": "code",
   "execution_count": null,
   "metadata": {},
   "outputs": [],
   "source": [
    "palindrome('kayak')"
   ]
  },
  {
   "cell_type": "code",
   "execution_count": null,
   "metadata": {},
   "outputs": [],
   "source": [
    "palindrome('Nurses run')"
   ]
  }
 ],
 "metadata": {
  "kernelspec": {
   "display_name": "Python 3 (ipykernel)",
   "language": "python",
   "name": "python3"
  },
  "language_info": {
   "codemirror_mode": {
    "name": "ipython",
    "version": 3
   },
   "file_extension": ".py",
   "mimetype": "text/x-python",
   "name": "python",
   "nbconvert_exporter": "python",
   "pygments_lexer": "ipython3",
   "version": "3.9.2+"
  }
 },
 "nbformat": 4,
 "nbformat_minor": 4
}
